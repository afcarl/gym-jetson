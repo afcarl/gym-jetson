{
 "cells": [
  {
   "cell_type": "markdown",
   "metadata": {},
   "source": [
    "# Learning Robotics on the Jetson TX2\n",
    "- Required components\n",
    "- Communication with the Jetson\n",
    " - GPIO\n",
    " - I2C\n",
    "- Wiring diagram and assembly instructions\n",
    "- Code breakdown\n",
    "\n",
    "In this part of the session, you will learn about different hardware components, including LEDs, buttons, and servo motors, how to assemble them for this project, and two different ways that hardware can interface with the Jetson.\n",
    "\n",
    "This notebook contains extra background information on each component and communication method that is not required to complete this project, but it is here for your reference and interest. "
   ]
  },
  {
   "cell_type": "markdown",
   "metadata": {},
   "source": [
    "## Breadboard \n",
    "For this project you’ll need a full size solderless breadboard so that you can reuse the components. In a breadboard like the one shown below, the + and - “rails” are internally connected. The interior numbered groups are also internally connected.\n",
    "\n",
    "![Breadboard](images/image9.png)"
   ]
  },
  {
   "cell_type": "markdown",
   "metadata": {},
   "source": [
    "## Jumper wires \n",
    "To make connections between the Jetson and other components, we will require wires. You will have two types: Male/Female; One end connects to select GPIO pins and the other goes into the breadboard, and Male/Male; to connect breadboard to breadboard.\n",
    "\n",
    "![Jumper wires](images/image2.jpg)"
   ]
  },
  {
   "cell_type": "markdown",
   "metadata": {},
   "source": [
    "## Light-Emitting Diodes (LEDs)\n",
    "For this project, we will be using four 10mm LEDs. LEDs have an anode and cathode, and the wires connected to them for this project are colour coded (red is positive and black is negative). It is important to plug in an LED in the correct orientation, as diodes only work in one direction. So keep an eye on this colour coding in the wiring diagram in the steps below.\n",
    "\n",
    "LEDs can blow if the circuit has not been connected properly and too much current is put through the LED, which is why we will use resistors in the LED circuit.\n",
    "\n",
    "![LEDs](images/image7.jpg)\n",
    "\n",
    "\n",
    "**Additional resources:**\n",
    "- [More about LEDs](https://learn.sparkfun.com/tutorials/light-emitting-diodes-leds)\n"
   ]
  },
  {
   "cell_type": "markdown",
   "metadata": {},
   "source": [
    "## Resistors \n",
    "\n",
    "Resistors are needed in a circuit to divide the voltage of a circuit and to control the current flow. If we just hook an LED up to a power source it will fail because the current going through it will be too high. However, if we put a resistor in series with the LED in the circuit, we can control the value of the current and the LED will work. We’ll also need one for our transistor switch,  and another for our button circuit The value of resistor or resistors that you need varies depending on your other specific circuit components. You can identify the value of the resistor based on the colour coded stripes, which you will be able to see in the wiring diagram provided.\n",
    "\n",
    "![Resistors](images/image8.png)\n",
    "\n",
    "**Additional Resources:**\n",
    "- [More about resistors from Sparkfun](https://learn.sparkfun.com/tutorials/resistors/take-a-stance-the-resist-stance)"
   ]
  },
  {
   "cell_type": "markdown",
   "metadata": {},
   "source": [
    "## Transistor\n",
    "For this project, we’ll use transistors as electronic switches. That means we’ll hook it up to a line we can control with the software and it will in turn make the circuit turn “on” and “off” by closing and opening the circuit, just like a physical switch. The transistor circuit allows us to control the LED with a very small output signal from the system, even one that is too small to drive an LED directly. We will be using small signal NPN transistor [2N2222A](https://en.wikipedia.org/wiki/2N2222) or similar.\n",
    "\n",
    "![Transistor](images/image5.png)\n",
    "\n",
    "**Additional Resources:**\n",
    "- [Sparkfun: NPN (BC337)](https://www.sparkfun.com/products/13689)"
   ]
  },
  {
   "cell_type": "markdown",
   "metadata": {},
   "source": [
    "## Button\n",
    "\n",
    "![Button](images/image6.png)\n",
    "\n",
    "A button or switch is used to control the current flow in a circuit by being in an open or closed state. When the switch is open or off, the circuit is open and current is not able to flow. When the switch is closed or on, the circuit is closed and current flows through.\n",
    "\n",
    "These physical switches are momentary, which means when they are active only when they are pressed. This is in contrast with a maintained switch, where if you toggle the switch on, it will remain on until you press it a second time.\n"
   ]
  },
  {
   "cell_type": "markdown",
   "metadata": {},
   "source": [
    "## Pull-Down Resistors\n",
    "\n",
    "The button circuits we are building allow for the Jetson to detect the state of the button input. We also will require something called a pull-down resistor, where when the switch is in an open state, the circuit will be “pulled down” to ground. This prevents something called a “floating pin”, where the signal of the Jetson pin floats between 0 and 1 when the button is not pressed and the circuit is open. With a pull-down resistor, the pin will consistently read 0 when the button is open, and 1 when the button is closed.\n",
    "\n",
    "[This](https://learn.sparkfun.com/tutorials/pull-up-resistors) is a great article about pull-up resistors, where the principle is the same, except in this project we are using a resistor that “pulls down” to ground."
   ]
  },
  {
   "cell_type": "markdown",
   "metadata": {},
   "source": [
    "## Servo motors\n",
    "\n",
    "Servos are motors that can be programmed to move to specific positions, controlled by sending electrical pulses with variable width, or pulse width modulation (PWM). The length of the pulse determines how far the motor will turn.\n",
    " \n",
    "Most hobby servos use a standard type of 3-pin plug, with the same control signaling.\n",
    "The connector is a female, 3-pin header. The wiring is color coded, but the colors aren’t always the same. The red wire is positive, the brown or black wire is negative, and the white orange or yellow wire is the PWM control signal.\n",
    "\n",
    "![Servo motor](images/image4.png)\n",
    "\n",
    "**Additional Resources:**\n",
    "https://learn.sparkfun.com/tutorials/hobby-servo-tutorial\n",
    "https://learn.sparkfun.com/tutorials/pulse-width-modulation\n",
    "https://www.jameco.com/jameco/workshop/howitworks/how-servo-motors-work.html"
   ]
  },
  {
   "cell_type": "markdown",
   "metadata": {},
   "source": [
    "## PWM Driver -  Servo HAT\n",
    "\n",
    "Unfortunately we can’t use the PWM GPIO pins on the Jetson to control the servos. This is because PWM requires precise clock and refresh, which is’t something that the Jetson can do very well - considering it is also running a non real-time operating system.\n",
    "Using I2C (only two command pins) , which we will discuss further later, the breakout board can control 16 free-running PWM outputs. The SparkFun Pi Servo HAT allows control of up to 16 servo motors using an I2C connection.\n",
    "\n",
    "Power to the SparkFun Pi Servo HAT is supplied by a microUSB connector that can be used to power the servo motors.\n",
    "\n",
    "We will learn about the code to communicate with this board using I2C later in this project.\n",
    "\n",
    "![PWM Driver - Servo Hat](images/image10.png)"
   ]
  },
  {
   "cell_type": "markdown",
   "metadata": {},
   "source": [
    "## Wiring Diagram and Assembly Instructions\n",
    "\n",
    "**Step 1**: Stack the red PWM Servo board on to the J21 Header of the TX2.\n",
    "\n",
    "**Step 2**: Wire the LEDs and buttons to the TX2 as shown in the wiring diagram below.\n",
    "\n",
    "**Step 3**: Make sure your Jetson is powered down before starting your wiring, and triple check it before turning on!  \n",
    "\n",
    "![Wiring diagram](images/image3.jpg)"
   ]
  },
  {
   "cell_type": "markdown",
   "metadata": {},
   "source": [
    "## Communication With the Jetson: GPIO\n",
    "\n",
    "General Purpose Input/Output (GPIO) is a basic form of communicating with pins to turn them on or off, or read the state of the pin. When configured as an input, the pin can be queried and it will return a 1 or 0. When configured as an output, the pin can be set to either 1 or 0.\n",
    "\n",
    "## Control GPIO pins with software\n",
    "\n",
    "The low level hardware interface for the GPIO pins is controlled in user space through a pseudo file system in Linux called sysfs. Control of the pin must first be \"exported\" to user space from kernel space. After that, the direction and pin value can be accessed like any other file. On the Jetson TX2, pin 18 corresponds to gpio481, so the number that must be exported to control it is 481.\n",
    "\n",
    "![Control GPIO Pins](images/image1.png)\n",
    "\n",
    "Begin by moving to sudo control and exporting the GPIO sysfs number. To control pin 18 of J21 on the Jetson TX2 Development board, the number is 481.\n",
    "\n",
    "```\n",
    "$ sudo -s\n",
    "\n",
    "# cd /sys/class/gpio\n",
    "\n",
    "# echo 481 >export\n",
    "```\n",
    "\n",
    "If you list the contents of the directory at this point, there is now a new directory named `gpio481`, and under it are a number of virtual files to control pin 18, including `direction`, to control whether the pin is used as an input or output (in or out) and a `value` file to control or read the voltage as high or low (1 or 0). To toggle the pin, declare it as an output and then output the value alternately as high or low:\n",
    "\n",
    "```\n",
    "# echo out >gpio481/direction\n",
    "\n",
    "# echo 1 >gpio481/value\n",
    "\n",
    "# echo 0 >gpio481/value\n",
    "\n",
    "# echo 1 >gpio481/value\n",
    "\n",
    "# echo 0 >gpio481/value\n",
    "```"
   ]
  },
  {
   "cell_type": "markdown",
   "metadata": {},
   "source": [
    "## GPIO pins\n",
    "\n",
    "The same procedure can be used to control other GPIO pins. The following is a table of sysfs and pin mappings.\n",
    "\n",
    "Sysfs GPIO | Name | Header | Pin\n",
    "------------ | ------------- | ------------ | ------------- \n",
    "gpio481 | GPIO16_MDM_WAKE_AP Modem Wake AP GPIO | J21 | 18\n",
    "gpio398 | GPIO19_AUD_RST Audio Reset (1.8/3.3V) | J21 | 29\n",
    "gpio298 | GPIO9_MOTION_INT MotionINterrupt (3.3V) | J21 | 31\n",
    "gpio389 | GPIO11_AP_WAKE_BT AP Wake Bt GPIO | J21 | 33\n",
    "gpio388 | GPIO9_ALS_PROX_INT(3.3V) | J21 | 37\n",
    "gpio488 | GPIO15_AP2MDM_READY AP to Modem Ready GPIO | J26 | 6\n",
    "gpio299 | CAN_WAKE | J26 | 19\n",
    "gpio300 | CAN1_ERR | J26 | 1\n",
    "\n",
    "## GPIO library\n",
    "\n",
    "Now that you understand how GPIO pins are controlled, we will be using a Python library called GPIO for our code. This library provides gpio access via the standard linux [sysfs interface](https://www.kernel.org/doc/Documentation/gpio/sysfs.txt)\n",
    "\n",
    "**Additional Resources:**\n",
    "\n",
    "https://pypi.python.org/pypi/gpio/0.2.0\n",
    "\n",
    "\n",
    "## Communication With the Jetson: I2C\n",
    "\n",
    "I2C is a more complex communication protocol, where 2 pins are used, but multiple devices can be controlled on a single bus, and two way communication is possible.\n",
    "\n",
    "A data line and clock signal - SCL keeps two devices synchronized during data transfer\n",
    "SDA is used to exchange data between two devices, and the master device ensures that only one device is using the communication line at one time.\n",
    "\n",
    "I2C protocol uses device addresses to coordinate devices and traffic on the data line.\n",
    "\n",
    "In most OS level interactions, the I2C bus is referred to as SMBus. We will use the Python library smbus to create SMBus object and attach it to a bus on the Jetson. We will need to tell the program the servo hat’s I2C address, which is 0x40 by default. We will enable the PWM chip, and write values to the PWM registers to assign a start time and stop time to the servo hat channels. Each channel on the servo hat controls one single servo, and eachof these channels has a unique start and stop address to write values to. The start time and stop time determine when the pulse of the PWM goes high and low. The control signal of the servo is taken from this pulse width.\n",
    "\n",
    "For this project, we will be using two servo motors. See the table below for the start and stop addresses for channel 0 and 1 of the servo hat, which you will see used in the code.\n",
    "\n",
    "Channel # | Start Address | Stop Address\n",
    "------------ | ------------- | ------------\n",
    "Ch 0 | 0x06 | 0x08\n",
    "Ch 1 | 0x0A | 0x0C\n",
    "\n",
    "If you write a 0 to the start address, every degree of offset from 90 degrees requires 4.6 counts written to the stop address. In other words, multiply the number of degrees offset from neutral you wish to achieve by 4.6, then either add or subtract that result from 1250, depending on the direction of motion you wish. For example, a 45 degree offset from center would be 207 (45x4.6) counts either more or less than 1250, depending upon the direction you desire the motion to be in.\n",
    "\n",
    "**Additional Resources:**\n",
    "\n",
    "https://learn.sparkfun.com/tutorials/i2c"
   ]
  },
  {
   "cell_type": "code",
   "execution_count": null,
   "metadata": {
    "collapsed": true
   },
   "outputs": [],
   "source": []
  }
 ],
 "metadata": {
  "anaconda-cloud": {},
  "kernelspec": {
   "display_name": "Python [default]",
   "language": "python",
   "name": "python3"
  },
  "language_info": {
   "codemirror_mode": {
    "name": "ipython",
    "version": 3
   },
   "file_extension": ".py",
   "mimetype": "text/x-python",
   "name": "python",
   "nbconvert_exporter": "python",
   "pygments_lexer": "ipython3",
   "version": "3.5.3"
  }
 },
 "nbformat": 4,
 "nbformat_minor": 2
}
