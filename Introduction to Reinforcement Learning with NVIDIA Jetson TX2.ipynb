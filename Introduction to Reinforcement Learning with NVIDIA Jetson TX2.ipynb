{
 "cells": [
  {
   "cell_type": "markdown",
   "metadata": {},
   "source": [
    "# Learning Robotics on the Jetson TX2\n",
    "\n",
    "In this session, you will be using the Jetson TX2 to control a robot arm. This robot arm will interact with a panel of buttons and LEDs. \n",
    "This session will be broken into two main parts: \n",
    "1. ***prepare and test your hardware***: take control of the arm, leds and buttons with the Jetson, and then \n",
    "2. ***add reinforcement learning*** to teach this robot to play a game. \n",
    "\n",
    "![Robot working](images/robot-working.gif)"
   ]
  },
  {
   "cell_type": "markdown",
   "metadata": {},
   "source": [
    "# Click on [this link](1_Hardware-Components.ipynb) to begin!"
   ]
  }
 ],
 "metadata": {
  "anaconda-cloud": {},
  "kernelspec": {
   "display_name": "Python [conda root]",
   "language": "python",
   "name": "conda-root-py"
  },
  "language_info": {
   "codemirror_mode": {
    "name": "ipython",
    "version": 3
   },
   "file_extension": ".py",
   "mimetype": "text/x-python",
   "name": "python",
   "nbconvert_exporter": "python",
   "pygments_lexer": "ipython3",
   "version": "3.5.3"
  }
 },
 "nbformat": 4,
 "nbformat_minor": 2
}
